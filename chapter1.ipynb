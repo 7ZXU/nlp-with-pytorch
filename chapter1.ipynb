{
  "nbformat": 4,
  "nbformat_minor": 0,
  "metadata": {
    "colab": {
      "name": "chapter1.ipynb",
      "private_outputs": true,
      "provenance": [],
      "collapsed_sections": [],
      "authorship_tag": "ABX9TyPC7GwM5HhaUdMwnupw6Xdq",
      "include_colab_link": true
    },
    "kernelspec": {
      "name": "python3",
      "display_name": "Python 3"
    },
    "language_info": {
      "name": "python"
    },
    "accelerator": "GPU"
  },
  "cells": [
    {
      "cell_type": "markdown",
      "metadata": {
        "id": "view-in-github",
        "colab_type": "text"
      },
      "source": [
        "<a href=\"https://colab.research.google.com/github/7ZXU/nlp-with-pytorch/blob/main/chapter1.ipynb\" target=\"_parent\"><img src=\"https://colab.research.google.com/assets/colab-badge.svg\" alt=\"Open In Colab\"/></a>"
      ]
    },
    {
      "cell_type": "markdown",
      "metadata": {
        "id": "ht8YeU07GZav"
      },
      "source": [
        "1-1\n",
        "\n"
      ]
    },
    {
      "cell_type": "code",
      "metadata": {
        "id": "Eu50WvVRGRd1"
      },
      "source": [
        "from sklearn.feature_extraction.text import CountVectorizer\n",
        "import seaborn as sns\n",
        "\n",
        "corpus = ['Time flies like an arrow.',\n",
        "          'Fruit flies like a banana.']\n",
        "          \n",
        "# 문장을 원핫 인코딩해주는 역할\n",
        "one_hot_vectorizer = CountVectorizer(binary=True)"
      ],
      "execution_count": null,
      "outputs": []
    },
    {
      "cell_type": "code",
      "metadata": {
        "id": "V5iX_T2VLFJf"
      },
      "source": [
        "# one-hot encoding 으로 문장에서 단어 위치 표시\n",
        "one_hot_trans = one_hot_vectorizer.fit_transform(corpus)\n",
        "\n",
        "print(one_hot_trans)"
      ],
      "execution_count": null,
      "outputs": []
    },
    {
      "cell_type": "code",
      "metadata": {
        "id": "MD3CW6lMHQ2y"
      },
      "source": [
        "# 원핫 인코딩 거친 문장 벡터화\n",
        "one_hot = one_hot_trans.toarray()\n",
        "\n",
        "print(one_hot)"
      ],
      "execution_count": null,
      "outputs": []
    },
    {
      "cell_type": "code",
      "metadata": {
        "id": "jEfnZsqjL34g"
      },
      "source": [
        "# 단어 세트 형성\n",
        "vocab = one_hot_vectorizer.get_feature_names()\n",
        "\n",
        "# seaborn : 시각화 라이브러리\n",
        "# heatmap : 데이터 배열을 색으로 표현해주는 그래프 \n",
        "# cbar:색상바 # annot:cell표기값\n",
        "sns.heatmap(\n",
        "    one_hot, annot=True,\n",
        "    cbar=False, xticklabels = vocab,\n",
        "    yticklabels=['Sentence 1', 'Sentence 2']\n",
        ")"
      ],
      "execution_count": null,
      "outputs": []
    },
    {
      "cell_type": "markdown",
      "metadata": {
        "id": "rg6eXvHkN8MB"
      },
      "source": [
        "1-2"
      ]
    },
    {
      "cell_type": "code",
      "metadata": {
        "id": "GDCGMXsIMA7o"
      },
      "source": [
        "from sklearn.feature_extraction.text import TfidfVectorizer\n",
        "import seaborn as sns\n",
        " \n",
        "tfidf_vectorizer = TfidfVectorizer()\n",
        "tfidf = tfidf_vectorizer.fit_transform(corpus).toarray()\n",
        "sns.heatmap(tfidf, annot=True, cbar=False, xticklabels=vocab,\n",
        "            yticklabels= ['Sentence 1', 'Sentence 2'])\n"
      ],
      "execution_count": null,
      "outputs": []
    },
    {
      "cell_type": "markdown",
      "metadata": {
        "id": "uDPmZJ59lfUf"
      },
      "source": [
        "1-3 torch.Tensor 텐서 만들기"
      ]
    },
    {
      "cell_type": "code",
      "metadata": {
        "id": "OYRpCOblODq_"
      },
      "source": [
        "def describe(x):\n",
        "    print(\"타입: {}\".format(x.type())) # x.type()\n",
        "    print(\"크기: {}\".format(x.shape)) # x.shape\n",
        "    print(\"값: {}\".format(x)) "
      ],
      "execution_count": null,
      "outputs": []
    },
    {
      "cell_type": "code",
      "metadata": {
        "id": "SbXebAKwly8o"
      },
      "source": [
        "import torch\n",
        "describe(torch.Tensor(2,3))"
      ],
      "execution_count": null,
      "outputs": []
    },
    {
      "cell_type": "markdown",
      "metadata": {
        "id": "ZsjM0nB1n9a9"
      },
      "source": [
        "1-4 랜덤하게 초기화한 텐서"
      ]
    },
    {
      "cell_type": "code",
      "metadata": {
        "id": "G_nn0f9snpEg"
      },
      "source": [
        "# 균등분포 \n",
        "# 0과 1사이의 균등분포에서 난수 생성\n",
        "# \n",
        "describe(torch.rand(2,3))"
      ],
      "execution_count": null,
      "outputs": []
    },
    {
      "cell_type": "code",
      "metadata": {
        "id": "OgIM5VKToG3I"
      },
      "source": [
        "# 표준 정규 분포 \n",
        "# 평균 0 표준편차 1인 가우시안 정규분포에서 난수 생성\n",
        "describe(torch.randn(2,3))"
      ],
      "execution_count": null,
      "outputs": []
    },
    {
      "cell_type": "markdown",
      "metadata": {
        "id": "50Gj6oNtqM2j"
      },
      "source": [
        "1-5"
      ]
    },
    {
      "cell_type": "code",
      "metadata": {
        "id": "6BGpJKtKqFWS"
      },
      "source": [
        "# torch.zeros\n",
        "describe(torch.zeros(2,3))\n",
        "\n",
        "# torch.ones\n",
        "x=torch.ones(2,3)\n",
        "describe(x)\n",
        "\n",
        "# fill_\n",
        "# _ : 인-플레이스 메서드 # 텐서값을 바꾸는 연산 # 새로운 객체 만드는 것이 아니라 기존 객체 값 바꿈 \n",
        "x=x.fill_(5)\n",
        "describe(x)"
      ],
      "execution_count": null,
      "outputs": []
    },
    {
      "cell_type": "markdown",
      "metadata": {
        "id": "_Vmc3ATUrQPY"
      },
      "source": [
        "1-6 리스트 - 텐서"
      ]
    },
    {
      "cell_type": "code",
      "metadata": {
        "id": "Rjef_bZBqelr"
      },
      "source": [
        "x=torch.Tensor([[1, 2, 3], \n",
        "                [4, 5, 6]])\n",
        "describe(x)"
      ],
      "execution_count": null,
      "outputs": []
    },
    {
      "cell_type": "markdown",
      "metadata": {
        "id": "6_116IhPrS33"
      },
      "source": [
        "1-7 넘파이 - 텐서\n",
        "\n",
        "넘파이를 텐서로 변환하면 DoubleTensor 반환"
      ]
    },
    {
      "cell_type": "code",
      "metadata": {
        "id": "q79VqLsjrjOx"
      },
      "source": [
        "import numpy as np\n",
        "x=np.random.rand(2, 3)\n",
        "x=torch.Tensor(x)\n",
        "describe(x)"
      ],
      "execution_count": null,
      "outputs": []
    },
    {
      "cell_type": "code",
      "metadata": {
        "id": "p1ow0gqDrrrB"
      },
      "source": [
        "x=np.random.rand(2,3)\n",
        "describe(torch.from_numpy(x))"
      ],
      "execution_count": null,
      "outputs": []
    },
    {
      "cell_type": "markdown",
      "metadata": {
        "id": "BDcmTyB6siEJ"
      },
      "source": [
        "1-8 텐서 타입과 크기 지정"
      ]
    },
    {
      "cell_type": "code",
      "metadata": {
        "id": "LR3XZPU5sDcE"
      },
      "source": [
        "# 생성자 직접 호출 \n",
        "x=torch.FloatTensor(2,3)\n",
        "describe(x)\n",
        "\n",
        "x=x.long()\n",
        "describe(x)"
      ],
      "execution_count": null,
      "outputs": []
    },
    {
      "cell_type": "code",
      "metadata": {
        "id": "uZQhLJY6sw60"
      },
      "source": [
        "# torch.tensor의 dtype 지정\n",
        "# torch.tensor : dtype 지정 가능\n",
        "# torch.Tensor : dtype 지정 불가능\n",
        "x=torch.tensor([[1,2,3],[4,5,6]], dtype=int)\n",
        "describe(x)\n",
        "\n",
        "x=torch.Tensor([[1,2,3],[4,5,6]])\n",
        "describe(x)"
      ],
      "execution_count": null,
      "outputs": []
    },
    {
      "cell_type": "markdown",
      "metadata": {
        "id": "TvpsXkSatjzp"
      },
      "source": [
        "1-9 텐서 연산 : 덧셈"
      ]
    },
    {
      "cell_type": "code",
      "metadata": {
        "id": "vJOlETY6tDIT"
      },
      "source": [
        "x=torch.randn(2, 3)\n",
        "describe(x)\n",
        "describe(torch.add(x, x))"
      ],
      "execution_count": null,
      "outputs": []
    },
    {
      "cell_type": "markdown",
      "metadata": {
        "id": "L4ydHoLKvj0g"
      },
      "source": [
        "1-10 차원별 텐서 연산"
      ]
    },
    {
      "cell_type": "code",
      "metadata": {
        "id": "BgctJ-QStwWC"
      },
      "source": [
        "x=torch.arange(6) # 0 이상 end-1 이하 # 1씩 증가하는 값 반환\n",
        "y=torch.arange(2, 6, 0.5) # start, end, step\n",
        "describe(x)\n",
        "describe(y)\n",
        "describe(x.view(2,3)) # view # x의 값을 공유 # 값만 공유하고 지정한 차원으로 출력"
      ],
      "execution_count": null,
      "outputs": []
    },
    {
      "cell_type": "code",
      "metadata": {
        "id": "mnaHwIbXuvfN"
      },
      "source": [
        "x=x.view(2,3)\n",
        "describe(x)\n",
        "describe(torch.sum(x, dim=0)) # 열끼리 더함\n",
        "describe(torch.sum(x, dim=1)) # 행끼리 더함\n",
        "describe(torch.transpose(x, 0, 1)) # 행, 열 바꿈"
      ],
      "execution_count": null,
      "outputs": []
    },
    {
      "cell_type": "markdown",
      "metadata": {
        "id": "L9uj6MwAxuP1"
      },
      "source": [
        "1-11 텐서 슬라이싱, 인덱싱"
      ]
    },
    {
      "cell_type": "code",
      "metadata": {
        "id": "C7INZi6YvzH_"
      },
      "source": [
        "x=x.view(2,3)\n",
        "describe(x)\n",
        "describe(x[:1, :3]) # 슬라이싱\n",
        "describe(x[1, 2]) # 인덱싱"
      ],
      "execution_count": null,
      "outputs": []
    },
    {
      "cell_type": "markdown",
      "metadata": {
        "id": "E7rjD1_sxxBG"
      },
      "source": [
        "1-12 복잡한 인덱싱"
      ]
    },
    {
      "cell_type": "code",
      "metadata": {
        "id": "QRO3o2VfxneH"
      },
      "source": [
        "indicies = torch.LongTensor([0,2])\n",
        "describe(x)\n",
        "describe(indicies)\n",
        "describe(torch.index_select(x, dim=1, index=indicies))\n"
      ],
      "execution_count": null,
      "outputs": []
    },
    {
      "cell_type": "code",
      "metadata": {
        "id": "SMj0PWQTymQZ"
      },
      "source": [
        "indicies = torch.LongTensor([0, 0])\n",
        "describe(torch.index_select(x, dim=0, index=indicies))"
      ],
      "execution_count": null,
      "outputs": []
    },
    {
      "cell_type": "markdown",
      "metadata": {
        "id": "E4Fw8zIMz3iI"
      },
      "source": [
        "1-13 텐서 연결"
      ]
    },
    {
      "cell_type": "code",
      "metadata": {
        "id": "UXGSEwWOz0kQ"
      },
      "source": [
        "describe(torch.cat([x, x], dim=0)) # 행 기준 concat"
      ],
      "execution_count": null,
      "outputs": []
    },
    {
      "cell_type": "code",
      "metadata": {
        "id": "LOj2IhKpz-NK"
      },
      "source": [
        "describe(torch.cat([x, x], dim=1)) # 열 기준 concat"
      ],
      "execution_count": null,
      "outputs": []
    },
    {
      "cell_type": "code",
      "metadata": {
        "id": "eX6RmLLw0Grf"
      },
      "source": [
        "describe(torch.stack([x, x]))"
      ],
      "execution_count": null,
      "outputs": []
    },
    {
      "cell_type": "markdown",
      "metadata": {
        "id": "FBtcZn0P0Uli"
      },
      "source": [
        "1-14 텐서 선형대수계산 : 행렬 곱셈"
      ]
    },
    {
      "cell_type": "code",
      "metadata": {
        "id": "BpSQfQCX0RQd"
      },
      "source": [
        "x1 = torch.arange(6).view(2,3)\n",
        "x1=x1.float()\n",
        "describe(x1)\n",
        "x2= torch.ones(3, 2)\n",
        "x2[:,1] += 1\n",
        "describe(x2)"
      ],
      "execution_count": null,
      "outputs": []
    },
    {
      "cell_type": "code",
      "metadata": {
        "id": "Urq3IaIz6Vhw"
      },
      "source": [
        "# 행렬곱\n",
        "describe(torch.mm(x1, x2))"
      ],
      "execution_count": null,
      "outputs": []
    },
    {
      "cell_type": "markdown",
      "metadata": {
        "id": "E9kNMUMf7fWk"
      },
      "source": [
        "1-15 그래디언트 연산 가능한 텐서 만들기"
      ]
    },
    {
      "cell_type": "code",
      "metadata": {
        "id": "H1lZkOL56dxm"
      },
      "source": [
        "# requires_grad = True\n",
        "# 그래디언트 학습에 필요한 1. 손실함수 2, 그래디언트 기록하는 연산 활성화\n",
        "\n",
        "import torch\n",
        "x=torch.ones(2, 2, requires_grad=True)\n",
        "describe(x)\n",
        "\n",
        "y=(x+2)*(x+5)+3\n",
        "describe(y)"
      ],
      "execution_count": null,
      "outputs": []
    },
    {
      "cell_type": "code",
      "metadata": {
        "id": "qQkqohx68ctr"
      },
      "source": [
        "z = y.mean()\n",
        "describe(z)"
      ],
      "execution_count": null,
      "outputs": []
    },
    {
      "cell_type": "code",
      "metadata": {
        "id": "rNd_7TtJ8qXc"
      },
      "source": [
        "z.backward() # 역방향 계산"
      ],
      "execution_count": null,
      "outputs": []
    },
    {
      "cell_type": "code",
      "metadata": {
        "id": "UFUDBMmN8-_j"
      },
      "source": [
        "print(x.grad)"
      ],
      "execution_count": null,
      "outputs": []
    },
    {
      "cell_type": "markdown",
      "metadata": {
        "id": "UkqQWUul9M4J"
      },
      "source": [
        "1-16 CUDA 텐서 만들기"
      ]
    },
    {
      "cell_type": "code",
      "metadata": {
        "id": "LwpOFUKe9C-O"
      },
      "source": [
        "import torch\n",
        "# GPU 사용 가능 여부 확인\n",
        "print(torch.cuda.is_available())"
      ],
      "execution_count": null,
      "outputs": []
    },
    {
      "cell_type": "code",
      "metadata": {
        "id": "_WmMHvUm-MZL"
      },
      "source": [
        "# gpu 사용 가능 하면 cuda 이름 부여 \n",
        "device = torch.device(\"cuda\" if torch.cuda.is_available() else \"cpu\") \n",
        "print(device)"
      ],
      "execution_count": null,
      "outputs": []
    },
    {
      "cell_type": "code",
      "metadata": {
        "id": "S05oX_7b-tdh"
      },
      "source": [
        "# 텐서 연산을 cuda 장치에 연결 \n",
        "x=torch.rand(3,3).to(device)\n",
        "describe(x)"
      ],
      "execution_count": null,
      "outputs": []
    },
    {
      "cell_type": "markdown",
      "metadata": {
        "id": "RSuWQzX__fHd"
      },
      "source": [
        "1-17 \n",
        "\n",
        "GPU 로 데이터를 넣고 꺼내는 작업은 비용이 많이 든다.\n",
        "\n",
        "따라서 \n",
        "\n",
        "1. 병렬 계산은 GPU 에서 수행하고 \n",
        "\n",
        "2. 최종 결과만 CPU 로 전송한다."
      ]
    },
    {
      "cell_type": "code",
      "metadata": {
        "id": "dQ8dyjgn--Oq"
      },
      "source": [
        "cpu_device = torch.device(\"cpu\")\n",
        "\n",
        "# 연산하는 텐서는 동일한 장치에 연결되어 있어야 한다 \n",
        "# 따라서 x 텐서 연결을 cpu로 변경해준다\n",
        "\n",
        "y=torch.rand(3, 3)\n",
        "y=y.to(cpu_device)\n",
        "x=x.to(cpu_device)\n",
        "\n",
        "x+y\n"
      ],
      "execution_count": null,
      "outputs": []
    },
    {
      "cell_type": "code",
      "metadata": {
        "id": "GTuKJFsYADIs"
      },
      "source": [
        ""
      ],
      "execution_count": null,
      "outputs": []
    }
  ]
}